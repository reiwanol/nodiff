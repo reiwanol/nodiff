{
 "cells": [
  {
   "cell_type": "markdown",
   "id": "51ec0086",
   "metadata": {},
   "source": [
    "\n",
    "# NoDiffTransformer & TripletNoDiffTransformer — Tutorial\n",
    "\n",
    "This notebook demonstrates how to use the cleaned, **separate-file** modules:\n",
    "\n",
    "- `nodiff_transformer.py` → `NoDiffTransformer`\n",
    "- `triplet_nodiff_transformer.py` → `TripletNoDiffTransformer`\n",
    "- `diff_transformer_utils.py` → shared utilities\n",
    "\n",
    "**Input spec for this tutorial:** single-channel images of size **51×51** (i.e., tensors shaped `(N, 1, 51, 51)`).  \n"
   ]
  },
  {
   "cell_type": "code",
   "execution_count": 1,
   "id": "4fc29a49",
   "metadata": {},
   "outputs": [],
   "source": [
    "\n",
    "# If running in a fresh environment, uncomment and run:\n",
    "# !pip install torch einops timm\n"
   ]
  },
  {
   "cell_type": "code",
   "execution_count": 1,
   "id": "6b06d7fc",
   "metadata": {},
   "outputs": [
    {
     "data": {
      "text/plain": [
       "device(type='cuda')"
      ]
     },
     "execution_count": 1,
     "metadata": {},
     "output_type": "execute_result"
    }
   ],
   "source": [
    "\n",
    "import sys, os, torch\n",
    "\n",
    "# Make sure the module directory is discoverable (adjust if needed)\n",
    "sys.path.append(\"/global/u1/i/inadas/projects/publish/nodiff/nodiff/\")\n",
    "\n",
    "device = torch.device(\"cuda\" if torch.cuda.is_available() else \"cpu\")\n",
    "device\n"
   ]
  },
  {
   "cell_type": "markdown",
   "id": "765fabfc",
   "metadata": {},
   "source": [
    "## Import models"
   ]
  },
  {
   "cell_type": "code",
   "execution_count": 2,
   "id": "28d4a346",
   "metadata": {},
   "outputs": [],
   "source": [
    "\n",
    "from nodiff_transformer import NoDiffTransformer\n",
    "from triplet_nodiff_transformer import TripletNoDiffTransformer\n"
   ]
  },
  {
   "cell_type": "markdown",
   "id": "a41795a8",
   "metadata": {},
   "source": [
    "## Create dummy inputs (channels=1, size=51×51)"
   ]
  },
  {
   "cell_type": "code",
   "execution_count": 3,
   "id": "7173eae9",
   "metadata": {},
   "outputs": [
    {
     "data": {
      "text/plain": [
       "(torch.Size([2, 1, 51, 51]),\n",
       " torch.Size([2, 1, 51, 51]),\n",
       " torch.Size([2, 1, 51, 51]),\n",
       " torch.Size([2, 1, 51, 51]))"
      ]
     },
     "execution_count": 3,
     "metadata": {},
     "output_type": "execute_result"
    }
   ],
   "source": [
    "\n",
    "# Single model input\n",
    "x = torch.randn(2, 1, 51, 51, device=device)\n",
    "\n",
    "# Triplet model inputs\n",
    "xa = torch.randn(2, 1, 51, 51, device=device)\n",
    "xp = torch.randn(2, 1, 51, 51, device=device)\n",
    "xn = torch.randn(2, 1, 51, 51, device=device)\n",
    "\n",
    "x.shape, xa.shape, xp.shape, xn.shape\n"
   ]
  },
  {
   "cell_type": "markdown",
   "id": "be11b29f",
   "metadata": {},
   "source": [
    "## Instantiate models \n",
    "\n",
    "The model in the paper requires you to pass the device as an argument for training.\n",
    "\n",
    "I am keeping it for the sake of consistency.\n",
    "\n",
    "For real work, it is better practice to use register_buffer so that there is no device mismatch."
   ]
  },
  {
   "cell_type": "code",
   "execution_count": 4,
   "id": "388bfa97",
   "metadata": {},
   "outputs": [
    {
     "name": "stderr",
     "output_type": "stream",
     "text": [
      "/global/homes/i/inadas/miniconda3/envs/realbogus/lib/python3.9/site-packages/torch/functional.py:504: UserWarning: torch.meshgrid: in an upcoming release, it will be required to pass the indexing argument. (Triggered internally at ../aten/src/ATen/native/TensorShape.cpp:3483.)\n",
      "  return _VF.meshgrid(tensors, **kwargs)  # type: ignore[attr-defined]\n"
     ]
    },
    {
     "data": {
      "text/plain": [
       "(65923243, 67802347)"
      ]
     },
     "execution_count": 4,
     "metadata": {},
     "output_type": "execute_result"
    }
   ],
   "source": [
    "\n",
    "model = NoDiffTransformer((51,51), device=device).to(device)\n",
    "triplet_model = TripletNoDiffTransformer((51,51), device=device).to(device)\n",
    "\n",
    "def count_params(m):\n",
    "    return sum(p.numel() for p in m.parameters())\n",
    "\n",
    "count_params(model), count_params(triplet_model)\n"
   ]
  },
  {
   "cell_type": "markdown",
   "id": "a88dddd1",
   "metadata": {},
   "source": [
    "## Forward pass"
   ]
  },
  {
   "cell_type": "code",
   "execution_count": 5,
   "id": "64b6f6c2",
   "metadata": {},
   "outputs": [
    {
     "data": {
      "text/plain": [
       "(torch.Tensor, torch.Size([2]))"
      ]
     },
     "execution_count": 5,
     "metadata": {},
     "output_type": "execute_result"
    }
   ],
   "source": [
    "\n",
    "model.eval()\n",
    "with torch.no_grad():\n",
    "    out_single = model(x,x)  # If your model returns multiple items, adapt handling below.\n",
    "\n",
    "type(out_single), getattr(out_single, \"shape\", None)\n"
   ]
  },
  {
   "cell_type": "code",
   "execution_count": 6,
   "id": "68703b84",
   "metadata": {},
   "outputs": [
    {
     "data": {
      "text/plain": [
       "(torch.Tensor, torch.Size([2]))"
      ]
     },
     "execution_count": 6,
     "metadata": {},
     "output_type": "execute_result"
    }
   ],
   "source": [
    "\n",
    "triplet_model.eval()\n",
    "with torch.no_grad():\n",
    "    out_triplet = triplet_model(xa, xp, xn)\n",
    "\n",
    "type(out_triplet), getattr(out_triplet, \"shape\", None)\n"
   ]
  },
  {
   "cell_type": "code",
   "execution_count": null,
   "id": "cd16ea1b",
   "metadata": {},
   "outputs": [],
   "source": []
  },
  {
   "cell_type": "code",
   "execution_count": null,
   "id": "cd6f9060-9835-41eb-b8fa-fd9c142ece59",
   "metadata": {},
   "outputs": [],
   "source": []
  }
 ],
 "metadata": {
  "kernelspec": {
   "display_name": "realbogus",
   "language": "python",
   "name": "realbogus"
  },
  "language_info": {
   "codemirror_mode": {
    "name": "ipython",
    "version": 3
   },
   "file_extension": ".py",
   "mimetype": "text/x-python",
   "name": "python",
   "nbconvert_exporter": "python",
   "pygments_lexer": "ipython3",
   "version": "3.9.18"
  }
 },
 "nbformat": 4,
 "nbformat_minor": 5
}
